{
 "cells": [
  {
   "cell_type": "code",
   "execution_count": 1,
   "metadata": {},
   "outputs": [
    {
     "name": "stderr",
     "output_type": "stream",
     "text": [
      "/data/projects/fate/env/python/venv/lib/python3.8/site-packages/tqdm/auto.py:22: TqdmWarning: IProgress not found. Please update jupyter and ipywidgets. See https://ipywidgets.readthedocs.io/en/stable/user_install.html\n",
      "  from .autonotebook import tqdm as notebook_tqdm\n"
     ]
    }
   ],
   "source": [
    "from pipeline.component.nn import save_to_fate"
   ]
  },
  {
   "cell_type": "code",
   "execution_count": 2,
   "metadata": {},
   "outputs": [],
   "source": [
    "%%save_to_fate model guest_bottom_image.py\n",
    "from torch import nn\n",
    "import torch as t\n",
    "from torch.nn import functional as F\n",
    "\n",
    "class ImgBottomNet(nn.Module):\n",
    "    def __init__(self):\n",
    "        super(ImgBottomNet, self).__init__()\n",
    "        self.seq = t.nn.Sequential(\n",
    "            nn.Conv2d(in_channels=3, out_channels=6, kernel_size=5),\n",
    "            nn.MaxPool2d(kernel_size=3),\n",
    "            nn.Conv2d(in_channels=6, out_channels=6, kernel_size=3),\n",
    "            nn.AvgPool2d(kernel_size=5)\n",
    "        )\n",
    "        \n",
    "        self.fc = t.nn.Sequential(\n",
    "            nn.Linear(1176, 32),\n",
    "            nn.ReLU(),\n",
    "            nn.Linear(32, 8)\n",
    "        )\n",
    "\n",
    "    def forward(self, x):\n",
    "        x = self.seq(x)\n",
    "        x = x.flatten(start_dim=1)\n",
    "        x = self.fc(x)\n",
    "        return x\n"
   ]
  },
  {
   "cell_type": "code",
   "execution_count": 3,
   "metadata": {},
   "outputs": [],
   "source": [
    "%%save_to_fate model guest_top_image.py\n",
    "from torch import nn\n",
    "import torch as t\n",
    "from torch.nn import functional as F\n",
    "\n",
    "class ImgTopNet(nn.Module):\n",
    "    def __init__(self):\n",
    "        super(ImgTopNet, self).__init__()\n",
    "        \n",
    "        self.fc = t.nn.Sequential(\n",
    "            nn.Linear(4, 1),\n",
    "            nn.Sigmoid()\n",
    "        )\n",
    "\n",
    "    def forward(self, x):\n",
    "        x = self.fc(x)\n",
    "        return x.flatten()"
   ]
  },
  {
   "cell_type": "code",
   "execution_count": 4,
   "metadata": {},
   "outputs": [],
   "source": [
    "%%save_to_fate model host_bottom_lstm.py\n",
    "from torch import nn\n",
    "import torch as t\n",
    "from torch.nn import functional as F\n",
    "\n",
    "class LSTMBottom(nn.Module):\n",
    "    \n",
    "    def __init__(self, vocab_size):\n",
    "        super(LSTMBottom, self).__init__()\n",
    "        self.word_embed = nn.Embedding(num_embeddings=vocab_size, embedding_dim=16, padding_idx=0)\n",
    "        self.lstm = t.nn.Sequential(\n",
    "            nn.LSTM(input_size=16, hidden_size=16, num_layers=2, batch_first=True)\n",
    "        )\n",
    "        self.act = nn.ReLU()\n",
    "        self.linear = nn.Linear(16, 8)\n",
    "\n",
    "    def forward(self, x):\n",
    "        embeddings = self.word_embed(x)\n",
    "        lstm_fw, _ = self.lstm(embeddings)\n",
    "        \n",
    "        return self.act(self.linear(lstm_fw.sum(dim=1)))    "
   ]
  },
  {
   "cell_type": "code",
   "execution_count": 5,
   "metadata": {},
   "outputs": [],
   "source": [
    "from federatedml.nn.dataset.image import ImageDataset\n",
    "from federatedml.nn.dataset.nlp_tokenizer import TokenizerDataset"
   ]
  },
  {
   "cell_type": "code",
   "execution_count": 6,
   "metadata": {},
   "outputs": [],
   "source": [
    "# flicke image\n",
    "img_ds = ImageDataset(center_crop=True, center_crop_shape=(224, 224), return_label=True) # return label = True\n",
    "img_ds.load('/data/flicker/flicker_toy_data/flicker/images/')\n",
    "# text\n",
    "txt_ds = TokenizerDataset(return_label=False) \n",
    "txt_ds.load('/data/flicker/flicker_toy_data/text.csv')"
   ]
  },
  {
   "cell_type": "code",
   "execution_count": 7,
   "metadata": {},
   "outputs": [
    {
     "name": "stdout",
     "output_type": "stream",
     "text": [
      "215\n",
      "(tensor([[[0.5059, 0.5176, 0.5137,  ..., 0.4941, 0.5020, 0.5059],\n",
      "         [0.4980, 0.5020, 0.4980,  ..., 0.4824, 0.5020, 0.5059],\n",
      "         [0.5059, 0.4863, 0.4902,  ..., 0.4980, 0.4980, 0.5137],\n",
      "         ...,\n",
      "         [0.7843, 0.7922, 0.7529,  ..., 0.1412, 0.2078, 0.2196],\n",
      "         [0.9922, 0.9922, 0.9647,  ..., 0.1176, 0.0941, 0.1333],\n",
      "         [0.9961, 0.9922, 1.0000,  ..., 0.1647, 0.1294, 0.1373]],\n",
      "\n",
      "        [[0.5765, 0.5882, 0.5843,  ..., 0.5490, 0.5569, 0.5608],\n",
      "         [0.5686, 0.5804, 0.5765,  ..., 0.5490, 0.5529, 0.5529],\n",
      "         [0.5608, 0.5569, 0.5647,  ..., 0.5569, 0.5490, 0.5529],\n",
      "         ...,\n",
      "         [0.7961, 0.8039, 0.7490,  ..., 0.1373, 0.1882, 0.2000],\n",
      "         [0.9961, 0.9961, 0.9608,  ..., 0.1137, 0.1137, 0.1529],\n",
      "         [0.9922, 0.9922, 1.0000,  ..., 0.1608, 0.1059, 0.1216]],\n",
      "\n",
      "        [[0.6235, 0.6353, 0.6314,  ..., 0.5922, 0.6000, 0.6118],\n",
      "         [0.6078, 0.6235, 0.6196,  ..., 0.5804, 0.5882, 0.6000],\n",
      "         [0.6039, 0.6118, 0.6196,  ..., 0.5843, 0.5843, 0.6000],\n",
      "         ...,\n",
      "         [0.5882, 0.5961, 0.5686,  ..., 0.1216, 0.1765, 0.1882],\n",
      "         [0.7294, 0.7373, 0.7373,  ..., 0.0980, 0.0980, 0.1294],\n",
      "         [0.8745, 0.8431, 0.8627,  ..., 0.1451, 0.1059, 0.1176]]]), tensor(0))\n",
      "[0, 1]\n",
      "['1022454428_b6b660a67b', '103195344_5d2dc613a3', '1055753357_4fa3d8d693', '1124448967_2221af8dc5', '1131804997_177c3c0640', '1138784872_69ade3f2ab', '1142847777_2a0c1c2551', '1143373711_2e90b7b799', '1143882946_1898d2eeb9', '1144288288_e5c9558b6a']\n"
     ]
    }
   ],
   "source": [
    "print(len(img_ds))\n",
    "print(img_ds[0])\n",
    "print(img_ds.get_classes())\n",
    "print(img_ds.get_sample_ids()[0: 10])"
   ]
  },
  {
   "cell_type": "code",
   "execution_count": 8,
   "metadata": {},
   "outputs": [
    {
     "name": "stdout",
     "output_type": "stream",
     "text": [
      "215\n",
      "tensor([  101,  1037,  2158,  1998,  2450,  2729,  2005,  2019, 10527,  2247,\n",
      "         1996,  2217,  1997,  1037,  2303,  1997,  2300,  1012,   102,     0,\n",
      "            0,     0,     0,     0,     0,     0])\n",
      "30522\n"
     ]
    }
   ],
   "source": [
    "print(len(txt_ds))\n",
    "print(txt_ds[0]) # word idx\n",
    "print(txt_ds.get_vocab_size()) # vocab size"
   ]
  },
  {
   "cell_type": "code",
   "execution_count": 9,
   "metadata": {},
   "outputs": [
    {
     "data": {
      "text/plain": [
       "tensor([[0.0000, 2.8432, 0.1454, 1.2420, 0.2922, 0.0000, 0.0000, 0.0000],\n",
       "        [0.0000, 2.6467, 0.6274, 1.1765, 0.1887, 0.0000, 0.0000, 0.0000]],\n",
       "       grad_fn=<ReluBackward0>)"
      ]
     },
     "execution_count": 9,
     "metadata": {},
     "output_type": "execute_result"
    }
   ],
   "source": [
    "img_bottom = ImgBottomNet()\n",
    "lstm_bottom = LSTMBottom(vocab_size=txt_ds.get_vocab_size())\n",
    "lstm_bottom(t.vstack([txt_ds[0], txt_ds[1]]))  # test forward"
   ]
  },
  {
   "cell_type": "code",
   "execution_count": 10,
   "metadata": {},
   "outputs": [
    {
     "data": {
      "text/plain": [
       "tensor([[ 0.0291, -0.0698,  0.1511, -0.0235,  0.1022,  0.0132, -0.0452, -0.0957],\n",
       "        [ 0.0555, -0.0826,  0.1833, -0.0097,  0.0629,  0.0195, -0.0194, -0.0683]],\n",
       "       grad_fn=<AddmmBackward0>)"
      ]
     },
     "execution_count": 10,
     "metadata": {},
     "output_type": "execute_result"
    }
   ],
   "source": [
    "img_bottom(t.vstack([img_ds[0][0].unsqueeze(dim=0), img_ds[1][0].unsqueeze(dim=0)])) "
   ]
  },
  {
   "cell_type": "code",
   "execution_count": 11,
   "metadata": {},
   "outputs": [
    {
     "name": "stderr",
     "output_type": "stream",
     "text": [
      "\u001b[32m2023-05-21 13:24:08.477\u001b[0m | \u001b[31m\u001b[1mERROR   \u001b[0m | \u001b[36m__main__\u001b[0m:\u001b[36m<module>\u001b[0m:\u001b[36m29\u001b[0m - \u001b[31m\u001b[1mAn error has been caught in function '<module>', process 'MainProcess' (225), thread 'MainThread' (140635839182656):\u001b[0m\n",
      "\u001b[33m\u001b[1mTraceback (most recent call last):\u001b[0m\n",
      "\n",
      "  File \"/data/projects/fate/env/python/miniconda/lib/python3.8/runpy.py\", line 194, in _run_module_as_main\n",
      "    return _run_code(code, main_globals, None,\n",
      "           │         │     └ {'__name__': '__main__', '__doc__': 'Entry point for launching an IPython kernel.\\n\\nThis is separate from the ipykernel pack...\n",
      "           │         └ <code object <module> at 0x7fe8543560e0, file \"/data/projects/fate/env/python/venv/lib/python3.8/site-packages/ipykernel_laun...\n",
      "           └ <function _run_code at 0x7fe85432c550>\n",
      "  File \"/data/projects/fate/env/python/miniconda/lib/python3.8/runpy.py\", line 87, in _run_code\n",
      "    exec(code, run_globals)\n",
      "         │     └ {'__name__': '__main__', '__doc__': 'Entry point for launching an IPython kernel.\\n\\nThis is separate from the ipykernel pack...\n",
      "         └ <code object <module> at 0x7fe8543560e0, file \"/data/projects/fate/env/python/venv/lib/python3.8/site-packages/ipykernel_laun...\n",
      "  File \"/data/projects/fate/env/python/venv/lib/python3.8/site-packages/ipykernel_launcher.py\", line 17, in <module>\n",
      "    app.launch_new_instance()\n",
      "    │   └ <bound method Application.launch_instance of <class 'ipykernel.kernelapp.IPKernelApp'>>\n",
      "    └ <module 'ipykernel.kernelapp' from '/data/projects/fate/env/python/venv/lib/python3.8/site-packages/ipykernel/kernelapp.py'>\n",
      "  File \"/data/projects/fate/env/python/venv/lib/python3.8/site-packages/traitlets/config/application.py\", line 1043, in launch_instance\n",
      "    app.start()\n",
      "    │   └ <function IPKernelApp.start at 0x7fe84fd47820>\n",
      "    └ <ipykernel.kernelapp.IPKernelApp object at 0x7fe8544144f0>\n",
      "  File \"/data/projects/fate/env/python/venv/lib/python3.8/site-packages/ipykernel/kernelapp.py\", line 725, in start\n",
      "    self.io_loop.start()\n",
      "    │    │       └ <function BaseAsyncIOLoop.start at 0x7fe84fd074c0>\n",
      "    │    └ <tornado.platform.asyncio.AsyncIOMainLoop object at 0x7fe84fd05e80>\n",
      "    └ <ipykernel.kernelapp.IPKernelApp object at 0x7fe8544144f0>\n",
      "  File \"/data/projects/fate/env/python/venv/lib/python3.8/site-packages/tornado/platform/asyncio.py\", line 215, in start\n",
      "    self.asyncio_loop.run_forever()\n",
      "    │    │            └ <function BaseEventLoop.run_forever at 0x7fe851e79040>\n",
      "    │    └ <_UnixSelectorEventLoop running=True closed=False debug=False>\n",
      "    └ <tornado.platform.asyncio.AsyncIOMainLoop object at 0x7fe84fd05e80>\n",
      "  File \"/data/projects/fate/env/python/miniconda/lib/python3.8/asyncio/base_events.py\", line 570, in run_forever\n",
      "    self._run_once()\n",
      "    │    └ <function BaseEventLoop._run_once at 0x7fe851e7ab80>\n",
      "    └ <_UnixSelectorEventLoop running=True closed=False debug=False>\n",
      "  File \"/data/projects/fate/env/python/miniconda/lib/python3.8/asyncio/base_events.py\", line 1859, in _run_once\n",
      "    handle._run()\n",
      "    │      └ <function Handle._run at 0x7fe851ec0820>\n",
      "    └ <Handle <TaskWakeupMethWrapper object at 0x7fe84c25d760>(<Future finis...5c0>, ...],))>)>\n",
      "  File \"/data/projects/fate/env/python/miniconda/lib/python3.8/asyncio/events.py\", line 81, in _run\n",
      "    self._context.run(self._callback, *self._args)\n",
      "    │    │            │    │           │    └ <member '_args' of 'Handle' objects>\n",
      "    │    │            │    │           └ <Handle <TaskWakeupMethWrapper object at 0x7fe84c25d760>(<Future finis...5c0>, ...],))>)>\n",
      "    │    │            │    └ <member '_callback' of 'Handle' objects>\n",
      "    │    │            └ <Handle <TaskWakeupMethWrapper object at 0x7fe84c25d760>(<Future finis...5c0>, ...],))>)>\n",
      "    │    └ <member '_context' of 'Handle' objects>\n",
      "    └ <Handle <TaskWakeupMethWrapper object at 0x7fe84c25d760>(<Future finis...5c0>, ...],))>)>\n",
      "  File \"/data/projects/fate/env/python/venv/lib/python3.8/site-packages/ipykernel/kernelbase.py\", line 513, in dispatch_queue\n",
      "    await self.process_one()\n",
      "          │    └ <function Kernel.process_one at 0x7fe850611dc0>\n",
      "          └ <ipykernel.ipkernel.IPythonKernel object at 0x7fe84ea87580>\n",
      "  File \"/data/projects/fate/env/python/venv/lib/python3.8/site-packages/ipykernel/kernelbase.py\", line 502, in process_one\n",
      "    await dispatch(*args)\n",
      "          │         └ ([<zmq.sugar.frame.Frame object at 0x7fe84c248460>, <zmq.sugar.frame.Frame object at 0x7fe84c248300>, <zmq.sugar.frame.Frame ...\n",
      "          └ <bound method Kernel.dispatch_shell of <ipykernel.ipkernel.IPythonKernel object at 0x7fe84ea87580>>\n",
      "  File \"/data/projects/fate/env/python/venv/lib/python3.8/site-packages/ipykernel/kernelbase.py\", line 409, in dispatch_shell\n",
      "    await result\n",
      "          └ <coroutine object Kernel.execute_request at 0x7fe79b107ac0>\n",
      "  File \"/data/projects/fate/env/python/venv/lib/python3.8/site-packages/ipykernel/kernelbase.py\", line 729, in execute_request\n",
      "    reply_content = await reply_content\n",
      "                          └ <coroutine object IPythonKernel.do_execute at 0x7fe79d6dc5c0>\n",
      "  File \"/data/projects/fate/env/python/venv/lib/python3.8/site-packages/ipykernel/ipkernel.py\", line 422, in do_execute\n",
      "    res = shell.run_cell(\n",
      "          │     └ <function ZMQInteractiveShell.run_cell at 0x7fe84fd31ee0>\n",
      "          └ <ipykernel.zmqshell.ZMQInteractiveShell object at 0x7fe84fcd46a0>\n",
      "  File \"/data/projects/fate/env/python/venv/lib/python3.8/site-packages/ipykernel/zmqshell.py\", line 540, in run_cell\n",
      "    return super().run_cell(*args, **kwargs)\n",
      "                             │       └ {'store_history': True, 'silent': False, 'cell_id': 'vscode-notebook-cell:/home/zensayyy/Projects/github/master-thesis/PREP/f...\n",
      "                             └ ('import os\\nimport torch as t\\nfrom torch import nn\\nfrom pipeline import fate_torch_hook\\nfrom pipeline.component import He...\n",
      "  File \"/data/projects/fate/env/python/venv/lib/python3.8/site-packages/IPython/core/interactiveshell.py\", line 3009, in run_cell\n",
      "    result = self._run_cell(\n",
      "             │    └ <function InteractiveShell._run_cell at 0x7fe851076c10>\n",
      "             └ <ipykernel.zmqshell.ZMQInteractiveShell object at 0x7fe84fcd46a0>\n",
      "  File \"/data/projects/fate/env/python/venv/lib/python3.8/site-packages/IPython/core/interactiveshell.py\", line 3064, in _run_cell\n",
      "    result = runner(coro)\n",
      "             │      └ <coroutine object InteractiveShell.run_cell_async at 0x7fe84fd42d40>\n",
      "             └ <function _pseudo_sync_runner at 0x7fe8510674c0>\n",
      "  File \"/data/projects/fate/env/python/venv/lib/python3.8/site-packages/IPython/core/async_helpers.py\", line 129, in _pseudo_sync_runner\n",
      "    coro.send(None)\n",
      "    │    └ <method 'send' of 'coroutine' objects>\n",
      "    └ <coroutine object InteractiveShell.run_cell_async at 0x7fe84fd42d40>\n",
      "  File \"/data/projects/fate/env/python/venv/lib/python3.8/site-packages/IPython/core/interactiveshell.py\", line 3269, in run_cell_async\n",
      "    has_raised = await self.run_ast_nodes(code_ast.body, cell_name,\n",
      "                       │    │             │        │     └ '/tmp/ipykernel_225/3676799536.py'\n",
      "                       │    │             │        └ [<_ast.Import object at 0x7fe79ade1970>, <_ast.Import object at 0x7fe79ade1f40>, <_ast.ImportFrom object at 0x7fe79ade1e20>, ...\n",
      "                       │    │             └ <_ast.Module object at 0x7fe79ade1d30>\n",
      "                       │    └ <function InteractiveShell.run_ast_nodes at 0x7fe851076ee0>\n",
      "                       └ <ipykernel.zmqshell.ZMQInteractiveShell object at 0x7fe84fcd46a0>\n",
      "  File \"/data/projects/fate/env/python/venv/lib/python3.8/site-packages/IPython/core/interactiveshell.py\", line 3448, in run_ast_nodes\n",
      "    if await self.run_code(code, result, async_=asy):\n",
      "             │    │        │     │              └ False\n",
      "             │    │        │     └ <ExecutionResult object at 7fe83492a730, execution_count=11 error_before_exec=None error_in_exec=None info=<ExecutionInfo obj...\n",
      "             │    │        └ <code object <module> at 0x7fe7983ed920, file \"/tmp/ipykernel_225/3676799536.py\", line 29>\n",
      "             │    └ <function InteractiveShell.run_code at 0x7fe851076f70>\n",
      "             └ <ipykernel.zmqshell.ZMQInteractiveShell object at 0x7fe84fcd46a0>\n",
      "  File \"/data/projects/fate/env/python/venv/lib/python3.8/site-packages/IPython/core/interactiveshell.py\", line 3508, in run_code\n",
      "    exec(code_obj, self.user_global_ns, self.user_ns)\n",
      "         │         │    │               │    └ {'__name__': '__main__', '__doc__': 'Automatically created module for IPython interactive environment', '__package__': None, ...\n",
      "         │         │    │               └ <ipykernel.zmqshell.ZMQInteractiveShell object at 0x7fe84fcd46a0>\n",
      "         │         │    └ <property object at 0x7fe851062f90>\n",
      "         │         └ <ipykernel.zmqshell.ZMQInteractiveShell object at 0x7fe84fcd46a0>\n",
      "         └ <code object <module> at 0x7fe7983ed920, file \"/tmp/ipykernel_225/3676799536.py\", line 29>\n",
      "\n",
      "> File \"\u001b[32m/tmp/ipykernel_225/\u001b[0m\u001b[32m\u001b[1m3676799536.py\u001b[0m\", line \u001b[33m29\u001b[0m, in \u001b[35m<module>\u001b[0m\n",
      "    \u001b[1mpipeline_mix\u001b[0m\u001b[35m\u001b[1m.\u001b[0m\u001b[1mbind_table\u001b[0m\u001b[1m(\u001b[0m\u001b[1mname\u001b[0m\u001b[35m\u001b[1m=\u001b[0m\u001b[36m'flicker_guest'\u001b[0m\u001b[1m,\u001b[0m \u001b[1mnamespace\u001b[0m\u001b[35m\u001b[1m=\u001b[0m\u001b[36m'experiment'\u001b[0m\u001b[1m,\u001b[0m \u001b[1mpath\u001b[0m\u001b[35m\u001b[1m=\u001b[0m\u001b[1mguest_data_path\u001b[0m\u001b[1m)\u001b[0m\n",
      "    \u001b[36m│            │                                                             └ \u001b[0m\u001b[36m\u001b[1m'/data/flicker/flicker_toy_data/flicker/images'\u001b[0m\n",
      "    \u001b[36m│            └ \u001b[0m\u001b[36m\u001b[1m<function PipeLine.bind_table at 0x7fe7983eb430>\u001b[0m\n",
      "    \u001b[36m└ \u001b[0m\u001b[36m\u001b[1m<pipeline.backend.pipeline.PipeLine object at 0x7fe79856a700>\u001b[0m\n",
      "\n",
      "  File \"/data/projects/fate/env/python/venv/lib/python3.8/site-packages/fate_client-1.11.0-py3.8.egg/pipeline/backend/pipeline.py\", line 804, in bind_table\n",
      "    info = self._job_invoker.bind_table(engine=engine, name=name, namespace=namespace, address={\n",
      "           │    │            │                 │            │               └ 'experiment'\n",
      "           │    │            │                 │            └ 'flicker_guest'\n",
      "           │    │            │                 └ 'PATH'\n",
      "           │    │            └ <function JobInvoker.bind_table at 0x7fe7983d8a60>\n",
      "           │    └ <pipeline.utils.invoker.job_submitter.JobInvoker object at 0x7fe79856a7f0>\n",
      "           └ <pipeline.backend.pipeline.PipeLine object at 0x7fe79856a700>\n",
      "  File \"/data/projects/fate/env/python/venv/lib/python3.8/site-packages/fate_client-1.11.0-py3.8.egg/pipeline/utils/invoker/job_submitter.py\", line 454, in bind_table\n",
      "    raise ValueError(f\"Cannot bind table, error msg is {result['retmsg']}\")\n",
      "\n",
      "\u001b[31m\u001b[1mValueError\u001b[0m:\u001b[1m Cannot bind table, error msg is Connection refused, Please check if the fate flow service is started\u001b[0m\n"
     ]
    },
    {
     "name": "stdout",
     "output_type": "stream",
     "text": [
      "/data/flicker/flicker_toy_data/flicker/images\n",
      "/data/flicker/flicker_toy_data/text.csv\n"
     ]
    },
    {
     "ename": "ValueError",
     "evalue": "Cannot bind table, error msg is Connection refused, Please check if the fate flow service is started",
     "output_type": "error",
     "traceback": [
      "\u001b[0;31m---------------------------------------------------------------------------\u001b[0m",
      "\u001b[0;31mValueError\u001b[0m                                Traceback (most recent call last)",
      "Cell \u001b[0;32mIn[11], line 29\u001b[0m\n\u001b[1;32m     26\u001b[0m \u001b[39mprint\u001b[39m(guest_data_path)\n\u001b[1;32m     27\u001b[0m \u001b[39mprint\u001b[39m(host_data_path)\n\u001b[0;32m---> 29\u001b[0m pipeline_mix\u001b[39m.\u001b[39;49mbind_table(name\u001b[39m=\u001b[39;49m\u001b[39m'\u001b[39;49m\u001b[39mflicker_guest\u001b[39;49m\u001b[39m'\u001b[39;49m, namespace\u001b[39m=\u001b[39;49m\u001b[39m'\u001b[39;49m\u001b[39mexperiment\u001b[39;49m\u001b[39m'\u001b[39;49m, path\u001b[39m=\u001b[39;49mguest_data_path)\n\u001b[1;32m     30\u001b[0m pipeline_mix\u001b[39m.\u001b[39mbind_table(name\u001b[39m=\u001b[39m\u001b[39m'\u001b[39m\u001b[39mflicker_host\u001b[39m\u001b[39m'\u001b[39m, namespace\u001b[39m=\u001b[39m\u001b[39m'\u001b[39m\u001b[39mexperiment\u001b[39m\u001b[39m'\u001b[39m, path\u001b[39m=\u001b[39mhost_data_path)\n",
      "File \u001b[0;32m/data/projects/fate/env/python/venv/lib/python3.8/site-packages/loguru/_logger.py:1226\u001b[0m, in \u001b[0;36mLogger.catch.<locals>.Catcher.__call__.<locals>.catch_wrapper\u001b[0;34m(*args, **kwargs)\u001b[0m\n\u001b[1;32m   1224\u001b[0m \u001b[39mdef\u001b[39;00m \u001b[39mcatch_wrapper\u001b[39m(\u001b[39m*\u001b[39margs, \u001b[39m*\u001b[39m\u001b[39m*\u001b[39mkwargs):\n\u001b[1;32m   1225\u001b[0m     \u001b[39mwith\u001b[39;00m catcher:\n\u001b[0;32m-> 1226\u001b[0m         \u001b[39mreturn\u001b[39;00m function(\u001b[39m*\u001b[39;49margs, \u001b[39m*\u001b[39;49m\u001b[39m*\u001b[39;49mkwargs)\n\u001b[1;32m   1227\u001b[0m     \u001b[39mreturn\u001b[39;00m default\n",
      "File \u001b[0;32m/data/projects/fate/env/python/venv/lib/python3.8/site-packages/fate_client-1.11.0-py3.8.egg/pipeline/backend/pipeline.py:804\u001b[0m, in \u001b[0;36mPipeLine.bind_table\u001b[0;34m(self, name, namespace, path, engine, replace, **kwargs)\u001b[0m\n\u001b[1;32m    802\u001b[0m \u001b[39m@LOGGER\u001b[39m\u001b[39m.\u001b[39mcatch(reraise\u001b[39m=\u001b[39m\u001b[39mTrue\u001b[39;00m)\n\u001b[1;32m    803\u001b[0m \u001b[39mdef\u001b[39;00m \u001b[39mbind_table\u001b[39m(\u001b[39mself\u001b[39m, name, namespace, path, engine\u001b[39m=\u001b[39m\u001b[39m'\u001b[39m\u001b[39mPATH\u001b[39m\u001b[39m'\u001b[39m, replace\u001b[39m=\u001b[39m\u001b[39mTrue\u001b[39;00m, \u001b[39m*\u001b[39m\u001b[39m*\u001b[39mkwargs):\n\u001b[0;32m--> 804\u001b[0m     info \u001b[39m=\u001b[39m \u001b[39mself\u001b[39;49m\u001b[39m.\u001b[39;49m_job_invoker\u001b[39m.\u001b[39;49mbind_table(engine\u001b[39m=\u001b[39;49mengine, name\u001b[39m=\u001b[39;49mname, namespace\u001b[39m=\u001b[39;49mnamespace, address\u001b[39m=\u001b[39;49m{\n\u001b[1;32m    805\u001b[0m         \u001b[39m\"\u001b[39;49m\u001b[39mpath\u001b[39;49m\u001b[39m\"\u001b[39;49m: path\n\u001b[1;32m    806\u001b[0m     }, drop\u001b[39m=\u001b[39;49mreplace, \u001b[39m*\u001b[39;49m\u001b[39m*\u001b[39;49mkwargs)\n\u001b[1;32m    807\u001b[0m     \u001b[39mreturn\u001b[39;00m info\n",
      "File \u001b[0;32m/data/projects/fate/env/python/venv/lib/python3.8/site-packages/fate_client-1.11.0-py3.8.egg/pipeline/utils/invoker/job_submitter.py:454\u001b[0m, in \u001b[0;36mJobInvoker.bind_table\u001b[0;34m(self, **kwargs)\u001b[0m\n\u001b[1;32m    452\u001b[0m     \u001b[39mraise\u001b[39;00m \u001b[39mValueError\u001b[39;00m(\u001b[39m\"\u001b[39m\u001b[39mCall flow table bind is failed, check if fate_flow server is up!\u001b[39m\u001b[39m\"\u001b[39m)\n\u001b[1;32m    453\u001b[0m \u001b[39melif\u001b[39;00m result[\u001b[39m\"\u001b[39m\u001b[39mretcode\u001b[39m\u001b[39m\"\u001b[39m] \u001b[39m!=\u001b[39m \u001b[39m0\u001b[39m:\n\u001b[0;32m--> 454\u001b[0m     \u001b[39mraise\u001b[39;00m \u001b[39mValueError\u001b[39;00m(\u001b[39mf\u001b[39m\u001b[39m\"\u001b[39m\u001b[39mCannot bind table, error msg is \u001b[39m\u001b[39m{\u001b[39;00mresult[\u001b[39m'\u001b[39m\u001b[39mretmsg\u001b[39m\u001b[39m'\u001b[39m]\u001b[39m}\u001b[39;00m\u001b[39m\"\u001b[39m)\n\u001b[1;32m    455\u001b[0m \u001b[39melse\u001b[39;00m:\n\u001b[1;32m    456\u001b[0m     \u001b[39mreturn\u001b[39;00m result[\u001b[39m\"\u001b[39m\u001b[39mdata\u001b[39m\u001b[39m\"\u001b[39m]\n",
      "\u001b[0;31mValueError\u001b[0m: Cannot bind table, error msg is Connection refused, Please check if the fate flow service is started"
     ]
    }
   ],
   "source": [
    "import os\n",
    "import torch as t\n",
    "from torch import nn\n",
    "from pipeline import fate_torch_hook\n",
    "from pipeline.component import HeteroNN\n",
    "from pipeline.component.hetero_nn import DatasetParam\n",
    "from pipeline.backend.pipeline import PipeLine\n",
    "from pipeline.component import Reader, Evaluation, DataTransform\n",
    "from pipeline.interface import Data, Model\n",
    "from pipeline.component.nn import save_to_fate\n",
    "\n",
    "fate_torch_hook(t)\n",
    "\n",
    "fate_project_path = os.path.abspath('/data/')\n",
    "guest = 10000\n",
    "host = 9999\n",
    "\n",
    "pipeline_mix = PipeLine().set_initiator(role='guest', party_id=guest).set_roles(guest=guest, host=host)\n",
    "\n",
    "guest_data = {\"name\": \"flicker_guest\", \"namespace\": \"experiment\"}\n",
    "host_data = {\"name\": \"flicker_host\", \"namespace\": \"experiment\"}\n",
    "\n",
    "guest_data_path = fate_project_path + '/flicker/flicker_toy_data/flicker/images'\n",
    "host_data_path = fate_project_path + '/flicker/flicker_toy_data/text.csv'\n",
    "\n",
    "print(guest_data_path)\n",
    "print(host_data_path)\n",
    "\n",
    "pipeline_mix.bind_table(name='flicker_guest', namespace='experiment', path=guest_data_path)\n",
    "pipeline_mix.bind_table(name='flicker_host', namespace='experiment', path=host_data_path)"
   ]
  },
  {
   "cell_type": "code",
   "execution_count": null,
   "metadata": {},
   "outputs": [],
   "source": [
    "reader_0 = Reader(name=\"reader_0\")\n",
    "reader_0.get_party_instance(role='guest', party_id=guest).component_param(table=guest_data)\n",
    "reader_0.get_party_instance(role='host', party_id=host).component_param(table=host_data)"
   ]
  },
  {
   "cell_type": "code",
   "execution_count": null,
   "metadata": {},
   "outputs": [],
   "source": [
    "hetero_nn_0 = HeteroNN(name=\"hetero_nn_0\", epochs=5,\n",
    "                       interactive_layer_lr=0.001, batch_size=64, validation_freqs=1, task_type='classification')\n",
    "guest_nn_0 = hetero_nn_0.get_party_instance(role='guest', party_id=guest)\n",
    "host_nn_0 = hetero_nn_0.get_party_instance(role='host', party_id=host)"
   ]
  },
  {
   "cell_type": "code",
   "execution_count": null,
   "metadata": {},
   "outputs": [],
   "source": [
    "guest_bottom = t.nn.Sequential(\n",
    "    nn.CustModel(module_name='guest_bottom_image', class_name='ImgBottomNet')\n",
    ")\n",
    "\n",
    "guest_top = t.nn.Sequential(\n",
    "    nn.CustModel(module_name='guest_top_image', class_name='ImgTopNet')\n",
    ")\n",
    "# bottom model\n",
    "host_bottom = nn.CustModel(module_name='host_bottom_lstm', class_name='LSTMBottom', vocab_size=txt_ds.get_vocab_size())\n",
    "\n",
    "interactive_layer = t.nn.InteractiveLayer(out_dim=4, guest_dim=8, host_dim=8, host_num=1)"
   ]
  },
  {
   "cell_type": "code",
   "execution_count": null,
   "metadata": {},
   "outputs": [],
   "source": [
    "guest_nn_0.add_top_model(guest_top)\n",
    "guest_nn_0.add_bottom_model(guest_bottom)\n",
    "host_nn_0.add_bottom_model(host_bottom)\n",
    "optimizer = t.optim.Adam(lr=0.001)\n",
    "loss = t.nn.BCELoss()\n",
    "\n",
    "hetero_nn_0.set_interactive_layer(interactive_layer)\n",
    "hetero_nn_0.compile(optimizer=optimizer, loss=loss)"
   ]
  },
  {
   "cell_type": "code",
   "execution_count": null,
   "metadata": {},
   "outputs": [],
   "source": [
    "guest_nn_0.add_dataset(DatasetParam(dataset_name='image', return_label=True, center_crop=True, center_crop_shape=(224, 224), label_dtype='float'))\n",
    "host_nn_0.add_dataset(DatasetParam(dataset_name='nlp_tokenizer', return_label=False))"
   ]
  },
  {
   "cell_type": "code",
   "execution_count": null,
   "metadata": {},
   "outputs": [
    {
     "data": {
      "text/plain": [
       "<pipeline.backend.pipeline.PipeLine at 0x7fb069c377f0>"
      ]
     },
     "execution_count": 17,
     "metadata": {},
     "output_type": "execute_result"
    }
   ],
   "source": [
    "pipeline_mix.add_component(reader_0)\n",
    "pipeline_mix.add_component(hetero_nn_0, data=Data(train_data=reader_0.output.data))\n",
    "pipeline_mix.compile()"
   ]
  },
  {
   "cell_type": "code",
   "execution_count": null,
   "metadata": {},
   "outputs": [
    {
     "name": "stderr",
     "output_type": "stream",
     "text": [
      "\u001b[32m2023-05-21 13:17:19.238\u001b[0m | \u001b[31m\u001b[1mERROR   \u001b[0m | \u001b[36m__main__\u001b[0m:\u001b[36m<module>\u001b[0m:\u001b[36m1\u001b[0m - \u001b[31m\u001b[1mAn error has been caught in function '<module>', process 'MainProcess' (703), thread 'MainThread' (140398834571072):\u001b[0m\n",
      "\u001b[33m\u001b[1mTraceback (most recent call last):\u001b[0m\n",
      "\n",
      "  File \"/data/projects/fate/env/python/venv/lib/python3.8/site-packages/fate_client-1.11.0-py3.8.egg/pipeline/utils/invoker/job_submitter.py\", line 46, in submit_job\n",
      "    raise ValueError(f\"retcode err, callback result is {result}\")\n",
      "\n",
      "\u001b[31m\u001b[1mValueError\u001b[0m:\u001b[1m retcode err, callback result is {'jobId': '202305211316365209900', 'retcode': 103, 'retmsg': 'Traceback (most recent call last):\\n  File \"/data/projects/fate/fateflow/python/fate_flow/scheduler/dag_scheduler.py\", line 142, in submit\\n    raise Exception(\"create job failed\", response)\\nException: (\\'create job failed\\', {\\'guest\\': {10000: {\\'data\\': {\\'components\\': {\\'hetero_nn_0\\': {\\'need_run\\': True}, \\'reader_0\\': {\\'need_run\\': True}}}, \\'retcode\\': 0, \\'retmsg\\': \\'success\\'}}, \\'host\\': {9999: {\\'retcode\\': 100, \\'retmsg\\': \"BusyError(\\'BusyError: database is locked\\')\"}}})\\n'}\u001b[0m\n",
      "\n",
      "\n",
      "\u001b[1mDuring handling of the above exception, another exception occurred:\u001b[0m\n",
      "\n",
      "\n",
      "\u001b[33m\u001b[1mTraceback (most recent call last):\u001b[0m\n",
      "\n",
      "  File \"/data/projects/fate/env/python/miniconda/lib/python3.8/runpy.py\", line 194, in _run_module_as_main\n",
      "    return _run_code(code, main_globals, None,\n",
      "           │         │     └ {'__name__': '__main__', '__doc__': 'Entry point for launching an IPython kernel.\\n\\nThis is separate from the ipykernel pack...\n",
      "           │         └ <code object <module> at 0x7fb125a200e0, file \"/data/projects/fate/env/python/venv/lib/python3.8/site-packages/ipykernel_laun...\n",
      "           └ <function _run_code at 0x7fb1259f6670>\n",
      "  File \"/data/projects/fate/env/python/miniconda/lib/python3.8/runpy.py\", line 87, in _run_code\n",
      "    exec(code, run_globals)\n",
      "         │     └ {'__name__': '__main__', '__doc__': 'Entry point for launching an IPython kernel.\\n\\nThis is separate from the ipykernel pack...\n",
      "         └ <code object <module> at 0x7fb125a200e0, file \"/data/projects/fate/env/python/venv/lib/python3.8/site-packages/ipykernel_laun...\n",
      "  File \"/data/projects/fate/env/python/venv/lib/python3.8/site-packages/ipykernel_launcher.py\", line 17, in <module>\n",
      "    app.launch_new_instance()\n",
      "    │   └ <bound method Application.launch_instance of <class 'ipykernel.kernelapp.IPKernelApp'>>\n",
      "    └ <module 'ipykernel.kernelapp' from '/data/projects/fate/env/python/venv/lib/python3.8/site-packages/ipykernel/kernelapp.py'>\n",
      "  File \"/data/projects/fate/env/python/venv/lib/python3.8/site-packages/traitlets/config/application.py\", line 1043, in launch_instance\n",
      "    app.start()\n",
      "    │   └ <function IPKernelApp.start at 0x7fb12140f820>\n",
      "    └ <ipykernel.kernelapp.IPKernelApp object at 0x7fb125ade4f0>\n",
      "  File \"/data/projects/fate/env/python/venv/lib/python3.8/site-packages/ipykernel/kernelapp.py\", line 725, in start\n",
      "    self.io_loop.start()\n",
      "    │    │       └ <function BaseAsyncIOLoop.start at 0x7fb1213d14c0>\n",
      "    │    └ <tornado.platform.asyncio.AsyncIOMainLoop object at 0x7fb1213d0e50>\n",
      "    └ <ipykernel.kernelapp.IPKernelApp object at 0x7fb125ade4f0>\n",
      "  File \"/data/projects/fate/env/python/venv/lib/python3.8/site-packages/tornado/platform/asyncio.py\", line 215, in start\n",
      "    self.asyncio_loop.run_forever()\n",
      "    │    │            └ <function BaseEventLoop.run_forever at 0x7fb123543040>\n",
      "    │    └ <_UnixSelectorEventLoop running=True closed=False debug=False>\n",
      "    └ <tornado.platform.asyncio.AsyncIOMainLoop object at 0x7fb1213d0e50>\n",
      "  File \"/data/projects/fate/env/python/miniconda/lib/python3.8/asyncio/base_events.py\", line 570, in run_forever\n",
      "    self._run_once()\n",
      "    │    └ <function BaseEventLoop._run_once at 0x7fb123544b80>\n",
      "    └ <_UnixSelectorEventLoop running=True closed=False debug=False>\n",
      "  File \"/data/projects/fate/env/python/miniconda/lib/python3.8/asyncio/base_events.py\", line 1859, in _run_once\n",
      "    handle._run()\n",
      "    │      └ <function Handle._run at 0x7fb12358a820>\n",
      "    └ <Handle <TaskWakeupMethWrapper object at 0x7fb069ab1b20>(<Future finis...5c0>, ...],))>)>\n",
      "  File \"/data/projects/fate/env/python/miniconda/lib/python3.8/asyncio/events.py\", line 81, in _run\n",
      "    self._context.run(self._callback, *self._args)\n",
      "    │    │            │    │           │    └ <member '_args' of 'Handle' objects>\n",
      "    │    │            │    │           └ <Handle <TaskWakeupMethWrapper object at 0x7fb069ab1b20>(<Future finis...5c0>, ...],))>)>\n",
      "    │    │            │    └ <member '_callback' of 'Handle' objects>\n",
      "    │    │            └ <Handle <TaskWakeupMethWrapper object at 0x7fb069ab1b20>(<Future finis...5c0>, ...],))>)>\n",
      "    │    └ <member '_context' of 'Handle' objects>\n",
      "    └ <Handle <TaskWakeupMethWrapper object at 0x7fb069ab1b20>(<Future finis...5c0>, ...],))>)>\n",
      "  File \"/data/projects/fate/env/python/venv/lib/python3.8/site-packages/ipykernel/kernelbase.py\", line 513, in dispatch_queue\n",
      "    await self.process_one()\n",
      "          │    └ <function Kernel.process_one at 0x7fb121cdbdc0>\n",
      "          └ <ipykernel.ipkernel.IPythonKernel object at 0x7fb120151550>\n",
      "  File \"/data/projects/fate/env/python/venv/lib/python3.8/site-packages/ipykernel/kernelbase.py\", line 502, in process_one\n",
      "    await dispatch(*args)\n",
      "          │         └ ([<zmq.sugar.frame.Frame object at 0x7fb069695a90>, <zmq.sugar.frame.Frame object at 0x7fb0696be300>, <zmq.sugar.frame.Frame ...\n",
      "          └ <bound method Kernel.dispatch_shell of <ipykernel.ipkernel.IPythonKernel object at 0x7fb120151550>>\n",
      "  File \"/data/projects/fate/env/python/venv/lib/python3.8/site-packages/ipykernel/kernelbase.py\", line 409, in dispatch_shell\n",
      "    await result\n",
      "          └ <coroutine object Kernel.execute_request at 0x7fb069a47bc0>\n",
      "  File \"/data/projects/fate/env/python/venv/lib/python3.8/site-packages/ipykernel/kernelbase.py\", line 729, in execute_request\n",
      "    reply_content = await reply_content\n",
      "                          └ <coroutine object IPythonKernel.do_execute at 0x7fb1200dc040>\n",
      "  File \"/data/projects/fate/env/python/venv/lib/python3.8/site-packages/ipykernel/ipkernel.py\", line 422, in do_execute\n",
      "    res = shell.run_cell(\n",
      "          │     └ <function ZMQInteractiveShell.run_cell at 0x7fb1213fbee0>\n",
      "          └ <ipykernel.zmqshell.ZMQInteractiveShell object at 0x7fb12139d790>\n",
      "  File \"/data/projects/fate/env/python/venv/lib/python3.8/site-packages/ipykernel/zmqshell.py\", line 540, in run_cell\n",
      "    return super().run_cell(*args, **kwargs)\n",
      "                             │       └ {'store_history': True, 'silent': False, 'cell_id': 'vscode-notebook-cell:/home/zensayyy/Projects/github/master-thesis/PREP/f...\n",
      "                             └ ('pipeline_mix.fit()',)\n",
      "  File \"/data/projects/fate/env/python/venv/lib/python3.8/site-packages/IPython/core/interactiveshell.py\", line 3009, in run_cell\n",
      "    result = self._run_cell(\n",
      "             │    └ <function InteractiveShell._run_cell at 0x7fb12273fc10>\n",
      "             └ <ipykernel.zmqshell.ZMQInteractiveShell object at 0x7fb12139d790>\n",
      "  File \"/data/projects/fate/env/python/venv/lib/python3.8/site-packages/IPython/core/interactiveshell.py\", line 3064, in _run_cell\n",
      "    result = runner(coro)\n",
      "             │      └ <coroutine object InteractiveShell.run_cell_async at 0x7fb06c4a9bc0>\n",
      "             └ <function _pseudo_sync_runner at 0x7fb1227314c0>\n",
      "  File \"/data/projects/fate/env/python/venv/lib/python3.8/site-packages/IPython/core/async_helpers.py\", line 129, in _pseudo_sync_runner\n",
      "    coro.send(None)\n",
      "    │    └ <method 'send' of 'coroutine' objects>\n",
      "    └ <coroutine object InteractiveShell.run_cell_async at 0x7fb06c4a9bc0>\n",
      "  File \"/data/projects/fate/env/python/venv/lib/python3.8/site-packages/IPython/core/interactiveshell.py\", line 3269, in run_cell_async\n",
      "    has_raised = await self.run_ast_nodes(code_ast.body, cell_name,\n",
      "                       │    │             │        │     └ '/tmp/ipykernel_703/540980420.py'\n",
      "                       │    │             │        └ [<_ast.Expr object at 0x7fb069143e80>]\n",
      "                       │    │             └ <_ast.Module object at 0x7fb069c37850>\n",
      "                       │    └ <function InteractiveShell.run_ast_nodes at 0x7fb12273fee0>\n",
      "                       └ <ipykernel.zmqshell.ZMQInteractiveShell object at 0x7fb12139d790>\n",
      "  File \"/data/projects/fate/env/python/venv/lib/python3.8/site-packages/IPython/core/interactiveshell.py\", line 3448, in run_ast_nodes\n",
      "    if await self.run_code(code, result, async_=asy):\n",
      "             │    │        │     │              └ False\n",
      "             │    │        │     └ <ExecutionResult object at 7fb069c376a0, execution_count=19 error_before_exec=None error_in_exec=None info=<ExecutionInfo obj...\n",
      "             │    │        └ <code object <module> at 0x7fb1201135b0, file \"/tmp/ipykernel_703/540980420.py\", line 1>\n",
      "             │    └ <function InteractiveShell.run_code at 0x7fb12273ff70>\n",
      "             └ <ipykernel.zmqshell.ZMQInteractiveShell object at 0x7fb12139d790>\n",
      "  File \"/data/projects/fate/env/python/venv/lib/python3.8/site-packages/IPython/core/interactiveshell.py\", line 3508, in run_code\n",
      "    exec(code_obj, self.user_global_ns, self.user_ns)\n",
      "         │         │    │               │    └ {'__name__': '__main__', '__doc__': 'Automatically created module for IPython interactive environment', '__package__': None, ...\n",
      "         │         │    │               └ <ipykernel.zmqshell.ZMQInteractiveShell object at 0x7fb12139d790>\n",
      "         │         │    └ <property object at 0x7fb12272cf40>\n",
      "         │         └ <ipykernel.zmqshell.ZMQInteractiveShell object at 0x7fb12139d790>\n",
      "         └ <code object <module> at 0x7fb1201135b0, file \"/tmp/ipykernel_703/540980420.py\", line 1>\n",
      "\n",
      "> File \"\u001b[32m/tmp/ipykernel_703/\u001b[0m\u001b[32m\u001b[1m540980420.py\u001b[0m\", line \u001b[33m1\u001b[0m, in \u001b[35m<module>\u001b[0m\n",
      "    \u001b[1mpipeline_mix\u001b[0m\u001b[35m\u001b[1m.\u001b[0m\u001b[1mfit\u001b[0m\u001b[1m(\u001b[0m\u001b[1m)\u001b[0m\n",
      "    \u001b[36m│            └ \u001b[0m\u001b[36m\u001b[1m<function PipeLine.fit at 0x7fb069aa3790>\u001b[0m\n",
      "    \u001b[36m└ \u001b[0m\u001b[36m\u001b[1m<pipeline.backend.pipeline.PipeLine object at 0x7fb069c377f0>\u001b[0m\n",
      "\n",
      "  File \"/data/projects/fate/env/python/venv/lib/python3.8/site-packages/fate_client-1.11.0-py3.8.egg/pipeline/backend/pipeline.py\", line 580, in fit\n",
      "    self._train_job_id, detail_info = self._job_invoker.submit_job(self._train_dsl, training_conf, callback_func)\n",
      "    │    │                            │    │            │          │    │           │              └ None\n",
      "    │    │                            │    │            │          │    │           └ {'dsl_version': 2, 'initiator': {'role': 'guest', 'party_id': 10000}, 'role': {'guest': [10000], 'host': [9999]}, 'job_parame...\n",
      "    │    │                            │    │            │          │    └ {'components': {'reader_0': {'module': 'Reader', 'output': {'data': ['data']}, 'provider': 'fate_flow'}, 'hetero_nn_0': {'mod...\n",
      "    │    │                            │    │            │          └ <pipeline.backend.pipeline.PipeLine object at 0x7fb069c377f0>\n",
      "    │    │                            │    │            └ <function JobInvoker.submit_job at 0x7fb069a98a60>\n",
      "    │    │                            │    └ <pipeline.utils.invoker.job_submitter.JobInvoker object at 0x7fb069c378e0>\n",
      "    │    │                            └ <pipeline.backend.pipeline.PipeLine object at 0x7fb069c377f0>\n",
      "    │    └ '202305211316034218810'\n",
      "    └ <pipeline.backend.pipeline.PipeLine object at 0x7fb069c377f0>\n",
      "  File \"/data/projects/fate/env/python/venv/lib/python3.8/site-packages/fate_client-1.11.0-py3.8.egg/pipeline/utils/invoker/job_submitter.py\", line 54, in submit_job\n",
      "    raise ValueError(\"job submit failed, err msg: {}\".format(result))\n",
      "                                                             └ {'jobId': '202305211316365209900', 'retcode': 103, 'retmsg': 'Traceback (most recent call last):\\n  File \"/data/projects/fate...\n",
      "\n",
      "\u001b[31m\u001b[1mValueError\u001b[0m:\u001b[1m job submit failed, err msg: {'jobId': '202305211316365209900', 'retcode': 103, 'retmsg': 'Traceback (most recent call last):\\n  File \"/data/projects/fate/fateflow/python/fate_flow/scheduler/dag_scheduler.py\", line 142, in submit\\n    raise Exception(\"create job failed\", response)\\nException: (\\'create job failed\\', {\\'guest\\': {10000: {\\'data\\': {\\'components\\': {\\'hetero_nn_0\\': {\\'need_run\\': True}, \\'reader_0\\': {\\'need_run\\': True}}}, \\'retcode\\': 0, \\'retmsg\\': \\'success\\'}}, \\'host\\': {9999: {\\'retcode\\': 100, \\'retmsg\\': \"BusyError(\\'BusyError: database is locked\\')\"}}})\\n'}\u001b[0m\n"
     ]
    },
    {
     "ename": "ValueError",
     "evalue": "job submit failed, err msg: {'jobId': '202305211316365209900', 'retcode': 103, 'retmsg': 'Traceback (most recent call last):\\n  File \"/data/projects/fate/fateflow/python/fate_flow/scheduler/dag_scheduler.py\", line 142, in submit\\n    raise Exception(\"create job failed\", response)\\nException: (\\'create job failed\\', {\\'guest\\': {10000: {\\'data\\': {\\'components\\': {\\'hetero_nn_0\\': {\\'need_run\\': True}, \\'reader_0\\': {\\'need_run\\': True}}}, \\'retcode\\': 0, \\'retmsg\\': \\'success\\'}}, \\'host\\': {9999: {\\'retcode\\': 100, \\'retmsg\\': \"BusyError(\\'BusyError: database is locked\\')\"}}})\\n'}",
     "output_type": "error",
     "traceback": [
      "\u001b[0;31m---------------------------------------------------------------------------\u001b[0m",
      "\u001b[0;31mValueError\u001b[0m                                Traceback (most recent call last)",
      "File \u001b[0;32m/data/projects/fate/env/python/venv/lib/python3.8/site-packages/fate_client-1.11.0-py3.8.egg/pipeline/utils/invoker/job_submitter.py:46\u001b[0m, in \u001b[0;36mJobInvoker.submit_job\u001b[0;34m(self, dsl, submit_conf, callback_func)\u001b[0m\n\u001b[1;32m     45\u001b[0m \u001b[39mif\u001b[39;00m \u001b[39m'\u001b[39m\u001b[39mretcode\u001b[39m\u001b[39m'\u001b[39m \u001b[39mnot\u001b[39;00m \u001b[39min\u001b[39;00m result \u001b[39mor\u001b[39;00m result[\u001b[39m\"\u001b[39m\u001b[39mretcode\u001b[39m\u001b[39m\"\u001b[39m] \u001b[39m!=\u001b[39m \u001b[39m0\u001b[39m:\n\u001b[0;32m---> 46\u001b[0m     \u001b[39mraise\u001b[39;00m \u001b[39mValueError\u001b[39;00m(\u001b[39mf\u001b[39m\u001b[39m\"\u001b[39m\u001b[39mretcode err, callback result is \u001b[39m\u001b[39m{\u001b[39;00mresult\u001b[39m}\u001b[39;00m\u001b[39m\"\u001b[39m)\n\u001b[1;32m     48\u001b[0m \u001b[39mif\u001b[39;00m \u001b[39m\"\u001b[39m\u001b[39mjobId\u001b[39m\u001b[39m\"\u001b[39m \u001b[39mnot\u001b[39;00m \u001b[39min\u001b[39;00m result:\n",
      "\u001b[0;31mValueError\u001b[0m: retcode err, callback result is {'jobId': '202305211316365209900', 'retcode': 103, 'retmsg': 'Traceback (most recent call last):\\n  File \"/data/projects/fate/fateflow/python/fate_flow/scheduler/dag_scheduler.py\", line 142, in submit\\n    raise Exception(\"create job failed\", response)\\nException: (\\'create job failed\\', {\\'guest\\': {10000: {\\'data\\': {\\'components\\': {\\'hetero_nn_0\\': {\\'need_run\\': True}, \\'reader_0\\': {\\'need_run\\': True}}}, \\'retcode\\': 0, \\'retmsg\\': \\'success\\'}}, \\'host\\': {9999: {\\'retcode\\': 100, \\'retmsg\\': \"BusyError(\\'BusyError: database is locked\\')\"}}})\\n'}",
      "\nDuring handling of the above exception, another exception occurred:\n",
      "\u001b[0;31mValueError\u001b[0m                                Traceback (most recent call last)",
      "Cell \u001b[0;32mIn[19], line 1\u001b[0m\n\u001b[0;32m----> 1\u001b[0m pipeline_mix\u001b[39m.\u001b[39;49mfit()\n",
      "File \u001b[0;32m/data/projects/fate/env/python/venv/lib/python3.8/site-packages/loguru/_logger.py:1226\u001b[0m, in \u001b[0;36mLogger.catch.<locals>.Catcher.__call__.<locals>.catch_wrapper\u001b[0;34m(*args, **kwargs)\u001b[0m\n\u001b[1;32m   1224\u001b[0m \u001b[39mdef\u001b[39;00m \u001b[39mcatch_wrapper\u001b[39m(\u001b[39m*\u001b[39margs, \u001b[39m*\u001b[39m\u001b[39m*\u001b[39mkwargs):\n\u001b[1;32m   1225\u001b[0m     \u001b[39mwith\u001b[39;00m catcher:\n\u001b[0;32m-> 1226\u001b[0m         \u001b[39mreturn\u001b[39;00m function(\u001b[39m*\u001b[39;49margs, \u001b[39m*\u001b[39;49m\u001b[39m*\u001b[39;49mkwargs)\n\u001b[1;32m   1227\u001b[0m     \u001b[39mreturn\u001b[39;00m default\n",
      "File \u001b[0;32m/data/projects/fate/env/python/venv/lib/python3.8/site-packages/fate_client-1.11.0-py3.8.egg/pipeline/backend/pipeline.py:580\u001b[0m, in \u001b[0;36mPipeLine.fit\u001b[0;34m(self, job_parameters, callback_func)\u001b[0m\n\u001b[1;32m    578\u001b[0m \u001b[39mself\u001b[39m\u001b[39m.\u001b[39m_train_conf \u001b[39m=\u001b[39m training_conf\n\u001b[1;32m    579\u001b[0m LOGGER\u001b[39m.\u001b[39mdebug(\u001b[39mf\u001b[39m\u001b[39m\"\u001b[39m\u001b[39mtrain_conf is: \u001b[39m\u001b[39m\\n\u001b[39;00m\u001b[39m \u001b[39m\u001b[39m{\u001b[39;00mjson\u001b[39m.\u001b[39mdumps(training_conf,\u001b[39m \u001b[39mindent\u001b[39m=\u001b[39m\u001b[39m4\u001b[39m,\u001b[39m \u001b[39mensure_ascii\u001b[39m=\u001b[39m\u001b[39mFalse\u001b[39;00m)\u001b[39m}\u001b[39;00m\u001b[39m\"\u001b[39m)\n\u001b[0;32m--> 580\u001b[0m \u001b[39mself\u001b[39m\u001b[39m.\u001b[39m_train_job_id, detail_info \u001b[39m=\u001b[39m \u001b[39mself\u001b[39;49m\u001b[39m.\u001b[39;49m_job_invoker\u001b[39m.\u001b[39;49msubmit_job(\u001b[39mself\u001b[39;49m\u001b[39m.\u001b[39;49m_train_dsl, training_conf, callback_func)\n\u001b[1;32m    581\u001b[0m \u001b[39mself\u001b[39m\u001b[39m.\u001b[39m_train_board_url \u001b[39m=\u001b[39m detail_info[\u001b[39m\"\u001b[39m\u001b[39mboard_url\u001b[39m\u001b[39m\"\u001b[39m]\n\u001b[1;32m    582\u001b[0m \u001b[39mself\u001b[39m\u001b[39m.\u001b[39m_model_info \u001b[39m=\u001b[39m SimpleNamespace(model_id\u001b[39m=\u001b[39mdetail_info[\u001b[39m\"\u001b[39m\u001b[39mmodel_info\u001b[39m\u001b[39m\"\u001b[39m][\u001b[39m\"\u001b[39m\u001b[39mmodel_id\u001b[39m\u001b[39m\"\u001b[39m],\n\u001b[1;32m    583\u001b[0m                                    model_version\u001b[39m=\u001b[39mdetail_info[\u001b[39m\"\u001b[39m\u001b[39mmodel_info\u001b[39m\u001b[39m\"\u001b[39m][\u001b[39m\"\u001b[39m\u001b[39mmodel_version\u001b[39m\u001b[39m\"\u001b[39m])\n",
      "File \u001b[0;32m/data/projects/fate/env/python/venv/lib/python3.8/site-packages/fate_client-1.11.0-py3.8.egg/pipeline/utils/invoker/job_submitter.py:54\u001b[0m, in \u001b[0;36mJobInvoker.submit_job\u001b[0;34m(self, dsl, submit_conf, callback_func)\u001b[0m\n\u001b[1;32m     52\u001b[0m     data \u001b[39m=\u001b[39m result[\u001b[39m\"\u001b[39m\u001b[39mdata\u001b[39m\u001b[39m\"\u001b[39m]\n\u001b[1;32m     53\u001b[0m \u001b[39mexcept\u001b[39;00m \u001b[39mValueError\u001b[39;00m:\n\u001b[0;32m---> 54\u001b[0m     \u001b[39mraise\u001b[39;00m \u001b[39mValueError\u001b[39;00m(\u001b[39m\"\u001b[39m\u001b[39mjob submit failed, err msg: \u001b[39m\u001b[39m{}\u001b[39;00m\u001b[39m\"\u001b[39m\u001b[39m.\u001b[39mformat(result))\n\u001b[1;32m     55\u001b[0m \u001b[39mreturn\u001b[39;00m job_id, data\n",
      "\u001b[0;31mValueError\u001b[0m: job submit failed, err msg: {'jobId': '202305211316365209900', 'retcode': 103, 'retmsg': 'Traceback (most recent call last):\\n  File \"/data/projects/fate/fateflow/python/fate_flow/scheduler/dag_scheduler.py\", line 142, in submit\\n    raise Exception(\"create job failed\", response)\\nException: (\\'create job failed\\', {\\'guest\\': {10000: {\\'data\\': {\\'components\\': {\\'hetero_nn_0\\': {\\'need_run\\': True}, \\'reader_0\\': {\\'need_run\\': True}}}, \\'retcode\\': 0, \\'retmsg\\': \\'success\\'}}, \\'host\\': {9999: {\\'retcode\\': 100, \\'retmsg\\': \"BusyError(\\'BusyError: database is locked\\')\"}}})\\n'}"
     ]
    }
   ],
   "source": [
    "pipeline_mix.fit()"
   ]
  }
 ],
 "metadata": {
  "kernelspec": {
   "display_name": "Python 3 (ipykernel)",
   "language": "python",
   "name": "python3"
  },
  "language_info": {
   "codemirror_mode": {
    "name": "ipython",
    "version": 3
   },
   "file_extension": ".py",
   "mimetype": "text/x-python",
   "name": "python",
   "nbconvert_exporter": "python",
   "pygments_lexer": "ipython3",
   "version": "3.8.13"
  },
  "orig_nbformat": 4
 },
 "nbformat": 4,
 "nbformat_minor": 2
}
